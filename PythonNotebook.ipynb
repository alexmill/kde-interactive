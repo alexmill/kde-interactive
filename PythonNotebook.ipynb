{
 "cells": [
  {
   "cell_type": "code",
   "execution_count": 2,
   "metadata": {},
   "outputs": [],
   "source": [
    "%reload_ext rpy2.ipython\n",
    "%matplotlib inline\n",
    "from matplotlib import pyplot as plt\n",
    "import pandas as pd\n",
    "import numpy as np"
   ]
  },
  {
   "cell_type": "code",
   "execution_count": null,
   "metadata": {},
   "outputs": [],
   "source": []
  },
  {
   "cell_type": "markdown",
   "metadata": {},
   "source": [
    "Kernel density estimation is equivalent to convolution between the empirical density function, $f_X(t)$, and a kernel $k(\\cdot)$:\n",
    "\n",
    "$$\\eqalign{\n",
    "(f_X * k)(x) &= \\int_{\\mathbb{R}} f_X(x - y) k(y) dy \\\\\n",
    "             &=\\int_{\\mathbb{R}}  \\frac{1}{n}\\sum_{i=1}^{n} \\delta(x-y-x_i) k(y) dy \\\\\n",
    "             &= \\frac{1}{n}\\sum_{i=1}^{n}\\int_{\\mathbb{R}}  \\delta(x-y-x_i) k(y) dy \\\\\n",
    "             &=\\frac{1}{n}\\sum_{i=1}^{n} k(x_i-x).\n",
    "}$$\n",
    "\n",
    "\n",
    "$$\\eqalign{\n",
    "(f_X * k)(x) &= \\int_{\\mathbb{R}} f_X(x - y) k(y) dy \\\\\n",
    "             &=\\int_{\\mathbb{R}}  \\frac{1}{n}\\sum_{i=1}^{n} \\delta(x-y-x_i) k(y) dy \\\\\n",
    "             &= \\frac{1}{n}\\sum_{i=1}^{n}\\int_{\\mathbb{R}}  \\delta(x-y-x_i) k(y) dy \\\\\n",
    "             &=\\frac{1}{n}\\sum_{i=1}^{n} k(x_i-x).\n",
    "}$$"
   ]
  },
  {
   "cell_type": "code",
   "execution_count": null,
   "metadata": {},
   "outputs": [],
   "source": []
  },
  {
   "cell_type": "code",
   "execution_count": null,
   "metadata": {},
   "outputs": [],
   "source": []
  },
  {
   "cell_type": "code",
   "execution_count": 3,
   "metadata": {},
   "outputs": [
    {
     "data": {
      "image/png": "[encoded data removed]"
     },
     "metadata": {},
     "output_type": "display_data"
    }
   ],
   "source": [
    "%%R\n",
    "set.seed(2346639)\n",
    "x <- c(rnorm(50), rnorm(50,2))\n",
    "x = sort(x)\n",
    "plot(density(x, kernel='rectangular', width=1, n = 10**4))\n",
    "rug(x)"
   ]
  },
  {
   "cell_type": "code",
   "execution_count": null,
   "metadata": {},
   "outputs": [],
   "source": []
  },
  {
   "cell_type": "code",
   "execution_count": 5,
   "metadata": {},
   "outputs": [
    {
     "name": "stdout",
     "output_type": "stream",
     "text": [
      "\n",
      "Error: package or namespace load failed for ‘ggplot2’ in loadNamespace(i, c(lib.loc, .libPaths()), versionCheck = vI[[i]]):\n",
      " there is no package called ‘gtable’\n"
     ]
    }
   ],
   "source": [
    "%%R\n",
    "library('ggplot2', lib=\"/home/alexpmil/.local/R_libs/\")\n",
    "#library('gganimate', lib=\"/home/alexpmil/.local/R_libs/\")\n",
    "#library('gifski', lib=\"/home/alexpmil/.local/R_libs/\")\n",
    "#library('png', lib=\"/home/alexpmil/.local/R_libs/\")\n",
    "library('gridExtra', lib=\"/home/alexpmil/.local/R_libs/\")\n",
    "\n",
    "\n",
    "require(stringr)\n",
    "require(grid)\n",
    "require(repr)\n",
    "require(dplyr)"
   ]
  },
  {
   "cell_type": "code",
   "execution_count": 7,
   "metadata": {},
   "outputs": [],
   "source": [
    "%%R\n",
    "library('ggplot2')\n",
    "#require(dplyr)"
   ]
  },
  {
   "cell_type": "code",
   "execution_count": 8,
   "metadata": {},
   "outputs": [
    {
     "data": {
      "text/plain": [
       "  [1] -2.146757349 -1.751475803 -1.602416252 -1.596334911 -1.355364554\n",
       "  [6] -1.348160999 -1.184195016 -1.175677313 -0.996654810 -0.946035875\n",
       " [11] -0.842957223 -0.765269094 -0.736098231 -0.675496893 -0.665124126\n",
       " [16] -0.565678246 -0.463509718 -0.391978252 -0.380025291 -0.366799795\n",
       " [21] -0.351286900 -0.228794658 -0.228613497 -0.153392044 -0.132234494\n",
       " [26] -0.126703484 -0.077459693 -0.006702789  0.001840414  0.047083428\n",
       " [31]  0.050646412  0.156518796  0.188051923  0.233814081  0.256242011\n",
       " [36]  0.263725189  0.305953622  0.377840466  0.380685046  0.395155664\n",
       " [41]  0.407581124  0.421100836  0.446940192  0.465473812  0.486677700\n",
       " [46]  0.555573530  0.576607526  0.773962634  0.781408253  0.881017969\n",
       " [51]  0.897022894  0.923677792  0.978016745  1.075666619  1.137814810\n",
       " [56]  1.151413594  1.156857187  1.264625881  1.396739589  1.414430276\n",
       " [61]  1.474244821  1.507112652  1.610707924  1.676514530  1.769046738\n",
       " [66]  1.846818450  1.860579267  1.900537821  1.935651701  1.973636420\n",
       " [71]  2.019000425  2.040928329  2.101137902  2.129553575  2.152048874\n",
       " [76]  2.158973593  2.166798528  2.167033105  2.171177438  2.199499200\n",
       " [81]  2.210122417  2.266456837  2.284231682  2.292032193  2.341302389\n",
       " [86]  2.542512947  2.623372646  2.719855905  2.791046118  2.998180789\n",
       " [91]  3.039405024  3.062106227  3.087892590  3.589446225  3.718712325\n",
       " [96]  3.759220934  3.763557727  4.163928892  4.229363387  4.698220383\n"
      ]
     },
     "metadata": {},
     "output_type": "display_data"
    }
   ],
   "source": [
    "%%R\n",
    "x"
   ]
  },
  {
   "cell_type": "code",
   "execution_count": 12,
   "metadata": {},
   "outputs": [],
   "source": [
    "%%R -w 1000 -h 500 -u px\n",
    "\n",
    "# kernel\n",
    "bandwidth = 0.1\n",
    "X = seq(-3, 3, length.out=100)\n",
    "density = dnorm(X/bandwidth)/bandwidth\n",
    "kdf = data.frame(cbind(X,density))\n",
    "\n",
    "under_curve_limits = sort(X[(density>0.01)])\n",
    "under_curve_limits = c(under_curve_limits[1], under_curve_limits[length(under_curve_limits)])\n",
    "under_curve_limits\n",
    "\n",
    "raw_data = data.frame(x)\n",
    "raw_data$height = 0.1\n",
    "raw_points_under_curve = (raw_data$x < under_curve_limits[2]) & (raw_data$x > under_curve_limits[1])\n",
    "raw_data[raw_points_under_curve, 'height'] = dnorm(raw_data[raw_points_under_curve, 'x']/bandwidth)/bandwidth\n",
    "raw_data$under_curve = 'no'\n",
    "raw_data[raw_points_under_curve, 'under_curve'] = 'yes'\n",
    "raw_data$under_curve = as.character(raw_data$under_curve)\n",
    "\n",
    "p = ggplot(kdf, aes(x=X, y=density)) +  \n",
    "    geom_line(color='red', size=1.5) +\n",
    "    geom_segment(data=raw_data, aes(x=x, y=0, xend=x, yend=height, color=under_curve)) + \n",
    "    scale_color_manual(values=c('black', 'green')) +\n",
    "    theme_bw() +\n",
    "    theme(\n",
    "        panel.background = element_rect(fill='white'),\n",
    "        plot.margin = margin(1, 0.5, 2.5, 1, \"cm\"),\n",
    "        #plot.background = element_rect(fill=theme_bg),\n",
    "        plot.title=element_text(size=24, family=\"Arial\", face=\"bold\"),\n",
    "        plot.subtitle=element_text(size=16),\n",
    "        axis.title=element_text(size=18), \n",
    "        axis.text=element_text(size=16)\n",
    "    )"
   ]
  },
  {
   "cell_type": "code",
   "execution_count": 16,
   "metadata": {},
   "outputs": [
    {
     "ename": "RRuntimeError",
     "evalue": "Error in viewer(index_html) : \n  'browser' must be a non-empty character string\n",
     "output_type": "error",
     "traceback": [
      "\u001b[0;31m---------------------------------------------------------------------------\u001b[0m",
      "\u001b[0;31mRRuntimeError\u001b[0m                             Traceback (most recent call last)",
      "\u001b[0;32m<ipython-input-16-6a494baa290f>\u001b[0m in \u001b[0;36m<module>\u001b[0;34m\u001b[0m\n\u001b[0;32m----> 1\u001b[0;31m \u001b[0mget_ipython\u001b[0m\u001b[0;34m(\u001b[0m\u001b[0;34m)\u001b[0m\u001b[0;34m.\u001b[0m\u001b[0mrun_cell_magic\u001b[0m\u001b[0;34m(\u001b[0m\u001b[0;34m'R'\u001b[0m\u001b[0;34m,\u001b[0m \u001b[0;34m''\u001b[0m\u001b[0;34m,\u001b[0m \u001b[0;34m'library(plotly)\\nggplotly(p)\\n'\u001b[0m\u001b[0;34m)\u001b[0m\u001b[0;34m\u001b[0m\u001b[0;34m\u001b[0m\u001b[0m\n\u001b[0m",
      "\u001b[0;32m~/Applications/miniconda3/envs/conda_env/lib/python3.7/site-packages/IPython/core/interactiveshell.py\u001b[0m in \u001b[0;36mrun_cell_magic\u001b[0;34m(self, magic_name, line, cell)\u001b[0m\n\u001b[1;32m   2345\u001b[0m                 \u001b[0mmagic_arg_s\u001b[0m \u001b[0;34m=\u001b[0m \u001b[0mself\u001b[0m\u001b[0;34m.\u001b[0m\u001b[0mvar_expand\u001b[0m\u001b[0;34m(\u001b[0m\u001b[0mline\u001b[0m\u001b[0;34m,\u001b[0m \u001b[0mstack_depth\u001b[0m\u001b[0;34m)\u001b[0m\u001b[0;34m\u001b[0m\u001b[0;34m\u001b[0m\u001b[0m\n\u001b[1;32m   2346\u001b[0m             \u001b[0;32mwith\u001b[0m \u001b[0mself\u001b[0m\u001b[0;34m.\u001b[0m\u001b[0mbuiltin_trap\u001b[0m\u001b[0;34m:\u001b[0m\u001b[0;34m\u001b[0m\u001b[0;34m\u001b[0m\u001b[0m\n\u001b[0;32m-> 2347\u001b[0;31m                 \u001b[0mresult\u001b[0m \u001b[0;34m=\u001b[0m \u001b[0mfn\u001b[0m\u001b[0;34m(\u001b[0m\u001b[0mmagic_arg_s\u001b[0m\u001b[0;34m,\u001b[0m \u001b[0mcell\u001b[0m\u001b[0;34m)\u001b[0m\u001b[0;34m\u001b[0m\u001b[0;34m\u001b[0m\u001b[0m\n\u001b[0m\u001b[1;32m   2348\u001b[0m             \u001b[0;32mreturn\u001b[0m \u001b[0mresult\u001b[0m\u001b[0;34m\u001b[0m\u001b[0;34m\u001b[0m\u001b[0m\n\u001b[1;32m   2349\u001b[0m \u001b[0;34m\u001b[0m\u001b[0m\n",
      "\u001b[0;32m</home/alexpmil/Applications/miniconda3/envs/conda_env/lib/python3.7/site-packages/decorator.py:decorator-gen-130>\u001b[0m in \u001b[0;36mR\u001b[0;34m(self, line, cell, local_ns)\u001b[0m\n",
      "\u001b[0;32m~/Applications/miniconda3/envs/conda_env/lib/python3.7/site-packages/IPython/core/magic.py\u001b[0m in \u001b[0;36m<lambda>\u001b[0;34m(f, *a, **k)\u001b[0m\n\u001b[1;32m    185\u001b[0m     \u001b[0;31m# but it's overkill for just that one bit of state.\u001b[0m\u001b[0;34m\u001b[0m\u001b[0;34m\u001b[0m\u001b[0;34m\u001b[0m\u001b[0m\n\u001b[1;32m    186\u001b[0m     \u001b[0;32mdef\u001b[0m \u001b[0mmagic_deco\u001b[0m\u001b[0;34m(\u001b[0m\u001b[0marg\u001b[0m\u001b[0;34m)\u001b[0m\u001b[0;34m:\u001b[0m\u001b[0;34m\u001b[0m\u001b[0;34m\u001b[0m\u001b[0m\n\u001b[0;32m--> 187\u001b[0;31m         \u001b[0mcall\u001b[0m \u001b[0;34m=\u001b[0m \u001b[0;32mlambda\u001b[0m \u001b[0mf\u001b[0m\u001b[0;34m,\u001b[0m \u001b[0;34m*\u001b[0m\u001b[0ma\u001b[0m\u001b[0;34m,\u001b[0m \u001b[0;34m**\u001b[0m\u001b[0mk\u001b[0m\u001b[0;34m:\u001b[0m \u001b[0mf\u001b[0m\u001b[0;34m(\u001b[0m\u001b[0;34m*\u001b[0m\u001b[0ma\u001b[0m\u001b[0;34m,\u001b[0m \u001b[0;34m**\u001b[0m\u001b[0mk\u001b[0m\u001b[0;34m)\u001b[0m\u001b[0;34m\u001b[0m\u001b[0;34m\u001b[0m\u001b[0m\n\u001b[0m\u001b[1;32m    188\u001b[0m \u001b[0;34m\u001b[0m\u001b[0m\n\u001b[1;32m    189\u001b[0m         \u001b[0;32mif\u001b[0m \u001b[0mcallable\u001b[0m\u001b[0;34m(\u001b[0m\u001b[0marg\u001b[0m\u001b[0;34m)\u001b[0m\u001b[0;34m:\u001b[0m\u001b[0;34m\u001b[0m\u001b[0;34m\u001b[0m\u001b[0m\n",
      "\u001b[0;32m~/Applications/miniconda3/envs/conda_env/lib/python3.7/site-packages/rpy2/ipython/rmagic.py\u001b[0m in \u001b[0;36mR\u001b[0;34m(self, line, cell, local_ns)\u001b[0m\n\u001b[1;32m    707\u001b[0m                     \u001b[0mold_writeconsole_regular\u001b[0m \u001b[0;34m=\u001b[0m \u001b[0mri\u001b[0m\u001b[0;34m.\u001b[0m\u001b[0mget_writeconsole_regular\u001b[0m\u001b[0;34m(\u001b[0m\u001b[0;34m)\u001b[0m\u001b[0;34m\u001b[0m\u001b[0;34m\u001b[0m\u001b[0m\n\u001b[1;32m    708\u001b[0m                     \u001b[0mri\u001b[0m\u001b[0;34m.\u001b[0m\u001b[0mset_writeconsole_regular\u001b[0m\u001b[0;34m(\u001b[0m\u001b[0mself\u001b[0m\u001b[0;34m.\u001b[0m\u001b[0mwrite_console_regular\u001b[0m\u001b[0;34m)\u001b[0m\u001b[0;34m\u001b[0m\u001b[0;34m\u001b[0m\u001b[0m\n\u001b[0;32m--> 709\u001b[0;31m                     \u001b[0mro\u001b[0m\u001b[0;34m.\u001b[0m\u001b[0mr\u001b[0m\u001b[0;34m.\u001b[0m\u001b[0mshow\u001b[0m\u001b[0;34m(\u001b[0m\u001b[0mresult\u001b[0m\u001b[0;34m)\u001b[0m\u001b[0;34m\u001b[0m\u001b[0;34m\u001b[0m\u001b[0m\n\u001b[0m\u001b[1;32m    710\u001b[0m                     \u001b[0mtext_output\u001b[0m \u001b[0;34m+=\u001b[0m \u001b[0mself\u001b[0m\u001b[0;34m.\u001b[0m\u001b[0mflush\u001b[0m\u001b[0;34m(\u001b[0m\u001b[0;34m)\u001b[0m\u001b[0;34m\u001b[0m\u001b[0;34m\u001b[0m\u001b[0m\n\u001b[1;32m    711\u001b[0m                     \u001b[0mri\u001b[0m\u001b[0;34m.\u001b[0m\u001b[0mset_writeconsole_regular\u001b[0m\u001b[0;34m(\u001b[0m\u001b[0mold_writeconsole_regular\u001b[0m\u001b[0;34m)\u001b[0m\u001b[0;34m\u001b[0m\u001b[0;34m\u001b[0m\u001b[0m\n",
      "\u001b[0;32m~/Applications/miniconda3/envs/conda_env/lib/python3.7/site-packages/rpy2/robjects/functions.py\u001b[0m in \u001b[0;36m__call__\u001b[0;34m(self, *args, **kwargs)\u001b[0m\n\u001b[1;32m    176\u001b[0m                 \u001b[0mv\u001b[0m \u001b[0;34m=\u001b[0m \u001b[0mkwargs\u001b[0m\u001b[0;34m.\u001b[0m\u001b[0mpop\u001b[0m\u001b[0;34m(\u001b[0m\u001b[0mk\u001b[0m\u001b[0;34m)\u001b[0m\u001b[0;34m\u001b[0m\u001b[0;34m\u001b[0m\u001b[0m\n\u001b[1;32m    177\u001b[0m                 \u001b[0mkwargs\u001b[0m\u001b[0;34m[\u001b[0m\u001b[0mr_k\u001b[0m\u001b[0;34m]\u001b[0m \u001b[0;34m=\u001b[0m \u001b[0mv\u001b[0m\u001b[0;34m\u001b[0m\u001b[0;34m\u001b[0m\u001b[0m\n\u001b[0;32m--> 178\u001b[0;31m         \u001b[0;32mreturn\u001b[0m \u001b[0msuper\u001b[0m\u001b[0;34m(\u001b[0m\u001b[0mSignatureTranslatedFunction\u001b[0m\u001b[0;34m,\u001b[0m \u001b[0mself\u001b[0m\u001b[0;34m)\u001b[0m\u001b[0;34m.\u001b[0m\u001b[0m__call__\u001b[0m\u001b[0;34m(\u001b[0m\u001b[0;34m*\u001b[0m\u001b[0margs\u001b[0m\u001b[0;34m,\u001b[0m \u001b[0;34m**\u001b[0m\u001b[0mkwargs\u001b[0m\u001b[0;34m)\u001b[0m\u001b[0;34m\u001b[0m\u001b[0;34m\u001b[0m\u001b[0m\n\u001b[0m\u001b[1;32m    179\u001b[0m \u001b[0;34m\u001b[0m\u001b[0m\n\u001b[1;32m    180\u001b[0m \u001b[0mpattern_link\u001b[0m \u001b[0;34m=\u001b[0m \u001b[0mre\u001b[0m\u001b[0;34m.\u001b[0m\u001b[0mcompile\u001b[0m\u001b[0;34m(\u001b[0m\u001b[0;34mr'\\\\link\\{(.+?)\\}'\u001b[0m\u001b[0;34m)\u001b[0m\u001b[0;34m\u001b[0m\u001b[0;34m\u001b[0m\u001b[0m\n",
      "\u001b[0;32m~/Applications/miniconda3/envs/conda_env/lib/python3.7/site-packages/rpy2/robjects/functions.py\u001b[0m in \u001b[0;36m__call__\u001b[0;34m(self, *args, **kwargs)\u001b[0m\n\u001b[1;32m    104\u001b[0m         \u001b[0;32mfor\u001b[0m \u001b[0mk\u001b[0m\u001b[0;34m,\u001b[0m \u001b[0mv\u001b[0m \u001b[0;32min\u001b[0m \u001b[0mkwargs\u001b[0m\u001b[0;34m.\u001b[0m\u001b[0mitems\u001b[0m\u001b[0;34m(\u001b[0m\u001b[0;34m)\u001b[0m\u001b[0;34m:\u001b[0m\u001b[0;34m\u001b[0m\u001b[0;34m\u001b[0m\u001b[0m\n\u001b[1;32m    105\u001b[0m             \u001b[0mnew_kwargs\u001b[0m\u001b[0;34m[\u001b[0m\u001b[0mk\u001b[0m\u001b[0;34m]\u001b[0m \u001b[0;34m=\u001b[0m \u001b[0mconversion\u001b[0m\u001b[0;34m.\u001b[0m\u001b[0mpy2ri\u001b[0m\u001b[0;34m(\u001b[0m\u001b[0mv\u001b[0m\u001b[0;34m)\u001b[0m\u001b[0;34m\u001b[0m\u001b[0;34m\u001b[0m\u001b[0m\n\u001b[0;32m--> 106\u001b[0;31m         \u001b[0mres\u001b[0m \u001b[0;34m=\u001b[0m \u001b[0msuper\u001b[0m\u001b[0;34m(\u001b[0m\u001b[0mFunction\u001b[0m\u001b[0;34m,\u001b[0m \u001b[0mself\u001b[0m\u001b[0;34m)\u001b[0m\u001b[0;34m.\u001b[0m\u001b[0m__call__\u001b[0m\u001b[0;34m(\u001b[0m\u001b[0;34m*\u001b[0m\u001b[0mnew_args\u001b[0m\u001b[0;34m,\u001b[0m \u001b[0;34m**\u001b[0m\u001b[0mnew_kwargs\u001b[0m\u001b[0;34m)\u001b[0m\u001b[0;34m\u001b[0m\u001b[0;34m\u001b[0m\u001b[0m\n\u001b[0m\u001b[1;32m    107\u001b[0m         \u001b[0mres\u001b[0m \u001b[0;34m=\u001b[0m \u001b[0mconversion\u001b[0m\u001b[0;34m.\u001b[0m\u001b[0mri2ro\u001b[0m\u001b[0;34m(\u001b[0m\u001b[0mres\u001b[0m\u001b[0;34m)\u001b[0m\u001b[0;34m\u001b[0m\u001b[0;34m\u001b[0m\u001b[0m\n\u001b[1;32m    108\u001b[0m         \u001b[0;32mreturn\u001b[0m \u001b[0mres\u001b[0m\u001b[0;34m\u001b[0m\u001b[0;34m\u001b[0m\u001b[0m\n",
      "\u001b[0;31mRRuntimeError\u001b[0m: Error in viewer(index_html) : \n  'browser' must be a non-empty character string\n"
     ]
    }
   ],
   "source": [
    "%%R\n",
    "library(plotly)\n",
    "ggplotly(p)"
   ]
  },
  {
   "cell_type": "code",
   "execution_count": 9,
   "metadata": {},
   "outputs": [],
   "source": [
    "%%R -w 1000 -h 500 -u px\n",
    "\n",
    "anim_x_start = -2\n",
    "anim_x_end = 4\n",
    "anim_x_step = 0.5\n",
    "\n",
    "anim_state = 1\n",
    "anim_x = anim_x_start\n",
    "n_frames = 10\n",
    "\n",
    "for (anim_state in seq(1,n_frames)){\n",
    "\n",
    "    # kernel\n",
    "    bandwidth = 0.1\n",
    "    X = seq(anim_x-2, anim_x+2, length.out=100)\n",
    "    density = dnorm(X/bandwidth)/bandwidth\n",
    "    kdf = data.frame(cbind(X,density))\n",
    "    kdf$anim_state = anim_state\n",
    "    \n",
    "    if (anim_state==1) {\n",
    "        anim_kdf = kdf\n",
    "    }\n",
    "    else{\n",
    "        anim_kdf = rbind(anim_kdf, kdf)\n",
    "    }\n",
    "    \n",
    "    under_curve_limits = sort(X[(density>0.01)])\n",
    "    under_curve_limits = c(under_curve_limits[1], under_curve_limits[length(under_curve_limits)])\n",
    "    under_curve_limits\n",
    "\n",
    "    raw_data = data.frame(x)\n",
    "    raw_data$height = 0.1\n",
    "    raw_points_under_curve = (raw_data$x < under_curve_limits[2]) & (raw_data$x > under_curve_limits[1])\n",
    "    raw_data[raw_points_under_curve, 'height'] = dnorm(raw_data[raw_points_under_curve, 'x']/bandwidth)/bandwidth\n",
    "    raw_data$under_curve = 'no'\n",
    "    raw_data[raw_points_under_curve, 'under_curve'] = 'yes'\n",
    "    raw_data$under_curve = as.character(raw_data$under_curve)\n",
    "    raw_data$anim_state = anim_state\n",
    "    \n",
    "    if (anim_state==1) {\n",
    "        anim_raw_data = raw_data\n",
    "    } else {\n",
    "        anim_raw_data = rbind(anim_raw_data, raw_data)\n",
    "    }\n",
    "}\n",
    "\n"
   ]
  },
  {
   "cell_type": "code",
   "execution_count": null,
   "metadata": {},
   "outputs": [],
   "source": []
  },
  {
   "cell_type": "code",
   "execution_count": 10,
   "metadata": {},
   "outputs": [
    {
     "name": "stderr",
     "output_type": "stream",
     "text": [
      "/home/alexpmil/.conda/envs/conda_env/lib/python3.7/site-packages/rpy2/rinterface/__init__.py:146: RRuntimeWarning: Error in transform_path(all_frames, next_state, ease, params$transition_length[i],  : \n",
      "  transformr is required to tween paths and lines\n",
      "\n",
      "  warnings.warn(x, RRuntimeWarning)\n"
     ]
    },
    {
     "ename": "RRuntimeError",
     "evalue": "Error in transform_path(all_frames, next_state, ease, params$transition_length[i],  : \n  transformr is required to tween paths and lines\n",
     "output_type": "error",
     "traceback": [
      "\u001b[0;31m---------------------------------------------------------------------------\u001b[0m",
      "\u001b[0;31mRRuntimeError\u001b[0m                             Traceback (most recent call last)",
      "\u001b[0;32m<ipython-input-10-cdb8212c6465>\u001b[0m in \u001b[0;36m<module>\u001b[0;34m\u001b[0m\n\u001b[0;32m----> 1\u001b[0;31m \u001b[0mget_ipython\u001b[0m\u001b[0;34m(\u001b[0m\u001b[0;34m)\u001b[0m\u001b[0;34m.\u001b[0m\u001b[0mrun_cell_magic\u001b[0m\u001b[0;34m(\u001b[0m\u001b[0;34m'R'\u001b[0m\u001b[0;34m,\u001b[0m \u001b[0;34m''\u001b[0m\u001b[0;34m,\u001b[0m \u001b[0;34m'\\nggplot(anim_kdf, aes(x=X, y=density)) +  \\n    geom_line(color=\\'red\\', size=1.5) +\\n    geom_segment(data=anim_raw_data, aes(x=x, y=0, xend=x, yend=height, color=under_curve)) + \\n    scale_color_manual(values=c(\\'black\\', \\'green\\')) +\\n    theme_bw() +\\n    theme(\\n        panel.background = element_rect(fill=\\'white\\'),\\n        plot.margin = margin(1, 0.5, 2.5, 1, \"cm\"),\\n        #plot.background = element_rect(fill=theme_bg),\\n        plot.title=element_text(size=24, family=\"Arial\", face=\"bold\"),\\n        plot.subtitle=element_text(size=16),\\n        axis.title=element_text(size=18), \\n        axis.text=element_text(size=16)\\n    ) +\\n    transition_time(anim_state) +\\n    transition_states(\\n        anim_state,\\n        transition_length = 0.5,\\n        state_length = 2\\n    ) +\\n    enter_fade() + \\n    exit_shrink() +\\n    ease_aes(\\'linear\\')\\n    #ease_aes(\\'sine-in-out\\')\\n'\u001b[0m\u001b[0;34m)\u001b[0m\u001b[0;34m\u001b[0m\u001b[0;34m\u001b[0m\u001b[0m\n\u001b[0m",
      "\u001b[0;32m~/.conda/envs/conda_env/lib/python3.7/site-packages/IPython/core/interactiveshell.py\u001b[0m in \u001b[0;36mrun_cell_magic\u001b[0;34m(self, magic_name, line, cell)\u001b[0m\n\u001b[1;32m   2345\u001b[0m                 \u001b[0mmagic_arg_s\u001b[0m \u001b[0;34m=\u001b[0m \u001b[0mself\u001b[0m\u001b[0;34m.\u001b[0m\u001b[0mvar_expand\u001b[0m\u001b[0;34m(\u001b[0m\u001b[0mline\u001b[0m\u001b[0;34m,\u001b[0m \u001b[0mstack_depth\u001b[0m\u001b[0;34m)\u001b[0m\u001b[0;34m\u001b[0m\u001b[0;34m\u001b[0m\u001b[0m\n\u001b[1;32m   2346\u001b[0m             \u001b[0;32mwith\u001b[0m \u001b[0mself\u001b[0m\u001b[0;34m.\u001b[0m\u001b[0mbuiltin_trap\u001b[0m\u001b[0;34m:\u001b[0m\u001b[0;34m\u001b[0m\u001b[0;34m\u001b[0m\u001b[0m\n\u001b[0;32m-> 2347\u001b[0;31m                 \u001b[0mresult\u001b[0m \u001b[0;34m=\u001b[0m \u001b[0mfn\u001b[0m\u001b[0;34m(\u001b[0m\u001b[0mmagic_arg_s\u001b[0m\u001b[0;34m,\u001b[0m \u001b[0mcell\u001b[0m\u001b[0;34m)\u001b[0m\u001b[0;34m\u001b[0m\u001b[0;34m\u001b[0m\u001b[0m\n\u001b[0m\u001b[1;32m   2348\u001b[0m             \u001b[0;32mreturn\u001b[0m \u001b[0mresult\u001b[0m\u001b[0;34m\u001b[0m\u001b[0;34m\u001b[0m\u001b[0m\n\u001b[1;32m   2349\u001b[0m \u001b[0;34m\u001b[0m\u001b[0m\n",
      "\u001b[0;32m</home/alexpmil/.conda/envs/conda_env/lib/python3.7/site-packages/decorator.py:decorator-gen-130>\u001b[0m in \u001b[0;36mR\u001b[0;34m(self, line, cell, local_ns)\u001b[0m\n",
      "\u001b[0;32m~/.conda/envs/conda_env/lib/python3.7/site-packages/IPython/core/magic.py\u001b[0m in \u001b[0;36m<lambda>\u001b[0;34m(f, *a, **k)\u001b[0m\n\u001b[1;32m    185\u001b[0m     \u001b[0;31m# but it's overkill for just that one bit of state.\u001b[0m\u001b[0;34m\u001b[0m\u001b[0;34m\u001b[0m\u001b[0;34m\u001b[0m\u001b[0m\n\u001b[1;32m    186\u001b[0m     \u001b[0;32mdef\u001b[0m \u001b[0mmagic_deco\u001b[0m\u001b[0;34m(\u001b[0m\u001b[0marg\u001b[0m\u001b[0;34m)\u001b[0m\u001b[0;34m:\u001b[0m\u001b[0;34m\u001b[0m\u001b[0;34m\u001b[0m\u001b[0m\n\u001b[0;32m--> 187\u001b[0;31m         \u001b[0mcall\u001b[0m \u001b[0;34m=\u001b[0m \u001b[0;32mlambda\u001b[0m \u001b[0mf\u001b[0m\u001b[0;34m,\u001b[0m \u001b[0;34m*\u001b[0m\u001b[0ma\u001b[0m\u001b[0;34m,\u001b[0m \u001b[0;34m**\u001b[0m\u001b[0mk\u001b[0m\u001b[0;34m:\u001b[0m \u001b[0mf\u001b[0m\u001b[0;34m(\u001b[0m\u001b[0;34m*\u001b[0m\u001b[0ma\u001b[0m\u001b[0;34m,\u001b[0m \u001b[0;34m**\u001b[0m\u001b[0mk\u001b[0m\u001b[0;34m)\u001b[0m\u001b[0;34m\u001b[0m\u001b[0;34m\u001b[0m\u001b[0m\n\u001b[0m\u001b[1;32m    188\u001b[0m \u001b[0;34m\u001b[0m\u001b[0m\n\u001b[1;32m    189\u001b[0m         \u001b[0;32mif\u001b[0m \u001b[0mcallable\u001b[0m\u001b[0;34m(\u001b[0m\u001b[0marg\u001b[0m\u001b[0;34m)\u001b[0m\u001b[0;34m:\u001b[0m\u001b[0;34m\u001b[0m\u001b[0;34m\u001b[0m\u001b[0m\n",
      "\u001b[0;32m~/.conda/envs/conda_env/lib/python3.7/site-packages/rpy2/ipython/rmagic.py\u001b[0m in \u001b[0;36mR\u001b[0;34m(self, line, cell, local_ns)\u001b[0m\n\u001b[1;32m    707\u001b[0m                     \u001b[0mold_writeconsole_regular\u001b[0m \u001b[0;34m=\u001b[0m \u001b[0mri\u001b[0m\u001b[0;34m.\u001b[0m\u001b[0mget_writeconsole_regular\u001b[0m\u001b[0;34m(\u001b[0m\u001b[0;34m)\u001b[0m\u001b[0;34m\u001b[0m\u001b[0;34m\u001b[0m\u001b[0m\n\u001b[1;32m    708\u001b[0m                     \u001b[0mri\u001b[0m\u001b[0;34m.\u001b[0m\u001b[0mset_writeconsole_regular\u001b[0m\u001b[0;34m(\u001b[0m\u001b[0mself\u001b[0m\u001b[0;34m.\u001b[0m\u001b[0mwrite_console_regular\u001b[0m\u001b[0;34m)\u001b[0m\u001b[0;34m\u001b[0m\u001b[0;34m\u001b[0m\u001b[0m\n\u001b[0;32m--> 709\u001b[0;31m                     \u001b[0mro\u001b[0m\u001b[0;34m.\u001b[0m\u001b[0mr\u001b[0m\u001b[0;34m.\u001b[0m\u001b[0mshow\u001b[0m\u001b[0;34m(\u001b[0m\u001b[0mresult\u001b[0m\u001b[0;34m)\u001b[0m\u001b[0;34m\u001b[0m\u001b[0;34m\u001b[0m\u001b[0m\n\u001b[0m\u001b[1;32m    710\u001b[0m                     \u001b[0mtext_output\u001b[0m \u001b[0;34m+=\u001b[0m \u001b[0mself\u001b[0m\u001b[0;34m.\u001b[0m\u001b[0mflush\u001b[0m\u001b[0;34m(\u001b[0m\u001b[0;34m)\u001b[0m\u001b[0;34m\u001b[0m\u001b[0;34m\u001b[0m\u001b[0m\n\u001b[1;32m    711\u001b[0m                     \u001b[0mri\u001b[0m\u001b[0;34m.\u001b[0m\u001b[0mset_writeconsole_regular\u001b[0m\u001b[0;34m(\u001b[0m\u001b[0mold_writeconsole_regular\u001b[0m\u001b[0;34m)\u001b[0m\u001b[0;34m\u001b[0m\u001b[0;34m\u001b[0m\u001b[0m\n",
      "\u001b[0;32m~/.conda/envs/conda_env/lib/python3.7/site-packages/rpy2/robjects/functions.py\u001b[0m in \u001b[0;36m__call__\u001b[0;34m(self, *args, **kwargs)\u001b[0m\n\u001b[1;32m    176\u001b[0m                 \u001b[0mv\u001b[0m \u001b[0;34m=\u001b[0m \u001b[0mkwargs\u001b[0m\u001b[0;34m.\u001b[0m\u001b[0mpop\u001b[0m\u001b[0;34m(\u001b[0m\u001b[0mk\u001b[0m\u001b[0;34m)\u001b[0m\u001b[0;34m\u001b[0m\u001b[0;34m\u001b[0m\u001b[0m\n\u001b[1;32m    177\u001b[0m                 \u001b[0mkwargs\u001b[0m\u001b[0;34m[\u001b[0m\u001b[0mr_k\u001b[0m\u001b[0;34m]\u001b[0m \u001b[0;34m=\u001b[0m \u001b[0mv\u001b[0m\u001b[0;34m\u001b[0m\u001b[0;34m\u001b[0m\u001b[0m\n\u001b[0;32m--> 178\u001b[0;31m         \u001b[0;32mreturn\u001b[0m \u001b[0msuper\u001b[0m\u001b[0;34m(\u001b[0m\u001b[0mSignatureTranslatedFunction\u001b[0m\u001b[0;34m,\u001b[0m \u001b[0mself\u001b[0m\u001b[0;34m)\u001b[0m\u001b[0;34m.\u001b[0m\u001b[0m__call__\u001b[0m\u001b[0;34m(\u001b[0m\u001b[0;34m*\u001b[0m\u001b[0margs\u001b[0m\u001b[0;34m,\u001b[0m \u001b[0;34m**\u001b[0m\u001b[0mkwargs\u001b[0m\u001b[0;34m)\u001b[0m\u001b[0;34m\u001b[0m\u001b[0;34m\u001b[0m\u001b[0m\n\u001b[0m\u001b[1;32m    179\u001b[0m \u001b[0;34m\u001b[0m\u001b[0m\n\u001b[1;32m    180\u001b[0m \u001b[0mpattern_link\u001b[0m \u001b[0;34m=\u001b[0m \u001b[0mre\u001b[0m\u001b[0;34m.\u001b[0m\u001b[0mcompile\u001b[0m\u001b[0;34m(\u001b[0m\u001b[0;34mr'\\\\link\\{(.+?)\\}'\u001b[0m\u001b[0;34m)\u001b[0m\u001b[0;34m\u001b[0m\u001b[0;34m\u001b[0m\u001b[0m\n",
      "\u001b[0;32m~/.conda/envs/conda_env/lib/python3.7/site-packages/rpy2/robjects/functions.py\u001b[0m in \u001b[0;36m__call__\u001b[0;34m(self, *args, **kwargs)\u001b[0m\n\u001b[1;32m    104\u001b[0m         \u001b[0;32mfor\u001b[0m \u001b[0mk\u001b[0m\u001b[0;34m,\u001b[0m \u001b[0mv\u001b[0m \u001b[0;32min\u001b[0m \u001b[0mkwargs\u001b[0m\u001b[0;34m.\u001b[0m\u001b[0mitems\u001b[0m\u001b[0;34m(\u001b[0m\u001b[0;34m)\u001b[0m\u001b[0;34m:\u001b[0m\u001b[0;34m\u001b[0m\u001b[0;34m\u001b[0m\u001b[0m\n\u001b[1;32m    105\u001b[0m             \u001b[0mnew_kwargs\u001b[0m\u001b[0;34m[\u001b[0m\u001b[0mk\u001b[0m\u001b[0;34m]\u001b[0m \u001b[0;34m=\u001b[0m \u001b[0mconversion\u001b[0m\u001b[0;34m.\u001b[0m\u001b[0mpy2ri\u001b[0m\u001b[0;34m(\u001b[0m\u001b[0mv\u001b[0m\u001b[0;34m)\u001b[0m\u001b[0;34m\u001b[0m\u001b[0;34m\u001b[0m\u001b[0m\n\u001b[0;32m--> 106\u001b[0;31m         \u001b[0mres\u001b[0m \u001b[0;34m=\u001b[0m \u001b[0msuper\u001b[0m\u001b[0;34m(\u001b[0m\u001b[0mFunction\u001b[0m\u001b[0;34m,\u001b[0m \u001b[0mself\u001b[0m\u001b[0;34m)\u001b[0m\u001b[0;34m.\u001b[0m\u001b[0m__call__\u001b[0m\u001b[0;34m(\u001b[0m\u001b[0;34m*\u001b[0m\u001b[0mnew_args\u001b[0m\u001b[0;34m,\u001b[0m \u001b[0;34m**\u001b[0m\u001b[0mnew_kwargs\u001b[0m\u001b[0;34m)\u001b[0m\u001b[0;34m\u001b[0m\u001b[0;34m\u001b[0m\u001b[0m\n\u001b[0m\u001b[1;32m    107\u001b[0m         \u001b[0mres\u001b[0m \u001b[0;34m=\u001b[0m \u001b[0mconversion\u001b[0m\u001b[0;34m.\u001b[0m\u001b[0mri2ro\u001b[0m\u001b[0;34m(\u001b[0m\u001b[0mres\u001b[0m\u001b[0;34m)\u001b[0m\u001b[0;34m\u001b[0m\u001b[0;34m\u001b[0m\u001b[0m\n\u001b[1;32m    108\u001b[0m         \u001b[0;32mreturn\u001b[0m \u001b[0mres\u001b[0m\u001b[0;34m\u001b[0m\u001b[0;34m\u001b[0m\u001b[0m\n",
      "\u001b[0;31mRRuntimeError\u001b[0m: Error in transform_path(all_frames, next_state, ease, params$transition_length[i],  : \n  transformr is required to tween paths and lines\n"
     ]
    }
   ],
   "source": [
    "%%R\n",
    "\n",
    "ggplot(anim_kdf, aes(x=X, y=density)) +  \n",
    "    geom_line(color='red', size=1.5) +\n",
    "    geom_segment(data=anim_raw_data, aes(x=x, y=0, xend=x, yend=height, color=under_curve)) + \n",
    "    scale_color_manual(values=c('black', 'green')) +\n",
    "    theme_bw() +\n",
    "    theme(\n",
    "        panel.background = element_rect(fill='white'),\n",
    "        plot.margin = margin(1, 0.5, 2.5, 1, \"cm\"),\n",
    "        #plot.background = element_rect(fill=theme_bg),\n",
    "        plot.title=element_text(size=24, family=\"Arial\", face=\"bold\"),\n",
    "        plot.subtitle=element_text(size=16),\n",
    "        axis.title=element_text(size=18), \n",
    "        axis.text=element_text(size=16)\n",
    "    ) +\n",
    "    transition_time(anim_state) +\n",
    "    transition_states(\n",
    "        anim_state,\n",
    "        transition_length = 0.5,\n",
    "        state_length = 2\n",
    "    ) +\n",
    "    enter_fade() + \n",
    "    exit_shrink() +\n",
    "    ease_aes('linear')\n",
    "    #ease_aes('sine-in-out')"
   ]
  },
  {
   "cell_type": "code",
   "execution_count": 14,
   "metadata": {},
   "outputs": [
    {
     "name": "stdout",
     "output_type": "stream",
     "text": [
      "R Help on ‘renderers’renderers              package:gganimate               R Documentation\n",
      "\n",
      "_\bR_\be_\bn_\bd_\be_\br_\be_\br_\bs _\bp_\br_\bo_\bv_\bi_\bd_\be_\bd _\bb_\by _\bg_\bg_\ba_\bn_\bi_\bm_\ba_\bt_\be\n",
      "\n",
      "_\bD_\be_\bs_\bc_\br_\bi_\bp_\bt_\bi_\bo_\bn:\n",
      "\n",
      "     The purpose of the renderer function is to take a list of image\n",
      "     files and assemble them into an animation. ‘gganimate’ provide a\n",
      "     range of renderers but it is also possible to provide your own, if\n",
      "     the supplied ones are lacking in any way. A renderer is given as\n",
      "     argument to ‘animate()’/print() and receives the paths to the\n",
      "     individual frames once they have been created.\n",
      "\n",
      "_\bU_\bs_\ba_\bg_\be:\n",
      "\n",
      "     gifski_renderer(file = tempfile(fileext = \".gif\"), loop = TRUE,\n",
      "       width = NULL, height = NULL)\n",
      "     \n",
      "     file_renderer(dir = \".\", prefix = \"gganim_plot\", overwrite = FALSE)\n",
      "     \n",
      "     av_renderer(file = NULL, vfilter = \"null\", codec = NULL,\n",
      "       audio = NULL)\n",
      "     \n",
      "     ffmpeg_renderer(format = \"auto\", ffmpeg = NULL,\n",
      "       options = list(pix_fmt = \"yuv420p\"))\n",
      "     \n",
      "     magick_renderer(loop = TRUE)\n",
      "     \n",
      "     sprite_renderer()\n",
      "     \n",
      "_\bA_\br_\bg_\bu_\bm_\be_\bn_\bt_\bs:\n",
      "\n",
      "    file: The animation file\n",
      "\n",
      "    loop: Logical. Should the produced gif loop\n",
      "\n",
      "width, height: Dimensions of the animation in pixels. If ‘NULL’ will\n",
      "          take the dimensions from the frame, otherwise it will rescale\n",
      "          it.\n",
      "\n",
      "     dir: The directory to copy the frames to\n",
      "\n",
      "  prefix: The filename prefix to use for the image files\n",
      "\n",
      "overwrite: Logical. If TRUE, existing files will be overwritten.\n",
      "\n",
      " vfilter: A string defining an ffmpeg filter graph. This is the same\n",
      "          parameter as the ‘-vf’ argument in the ‘ffmpeg’ command line\n",
      "          utility.\n",
      "\n",
      "   codec: The name of the video codec. The default is ‘libx264’ for\n",
      "          most formats, which usually the best choice. See the ‘av’\n",
      "          documentation for more information.\n",
      "\n",
      "   audio: An optional file with sounds to add to the video\n",
      "\n",
      "  format: The video format to encode the animation into\n",
      "\n",
      "  ffmpeg: The location of the ‘ffmpeg’ executable. If ‘NULL’ it will be\n",
      "          assumed to be on the search path\n",
      "\n",
      " options: Either a character vector of command line options for ffmpeg\n",
      "          or a named list of option-value pairs that will be converted\n",
      "          to command line options automatically\n",
      "\n",
      "     ...: arguments passed on to the selected renderer\n",
      "\n",
      "_\bD_\be_\bt_\ba_\bi_\bl_\bs:\n",
      "\n",
      "     The ‘gifski_renderer()’ is used unless otherwise specified in\n",
      "     ‘animate()’ or in ‘options('gganimate.renderer')’. This renderer\n",
      "     requires both the ‘gifski’ and ‘png’ packages to be installed.\n",
      "\n",
      "     Other possible renderers are:\n",
      "\n",
      "        • ‘magick_renderer()’ which requires the ‘magick’ package and\n",
      "          produce a ‘gif’. If ‘gifski’ is not installed, the rendering\n",
      "          will be much slower than using the ‘gifski_renderer()’ and\n",
      "          can potentially result in system problems when many frames\n",
      "          need to be rendered (if ‘gifski’ is installed ‘magick’ will\n",
      "          use it under the hood)\n",
      "\n",
      "        • ‘av_renderer()’ which requies the ‘av’ package and uses\n",
      "          ffmpeg to encode the animation into a video file.\n",
      "\n",
      "        • ‘ffmpeg_renderer()’ which requires that ffmpeg has been\n",
      "          installed on your computer. As with ‘av_renderer()’ it will\n",
      "          use ffmpeg to encode the animation into a video\n",
      "\n",
      "        • ‘sprite_renderer()’ which requires ‘magick’ and will render\n",
      "          the animation into a spritesheet\n",
      "\n",
      "        • ‘file_renderer()’ which has no dependencies and simply\n",
      "          returns the animation as a list of image files (one for each\n",
      "          frame)\n",
      "\n",
      "     It is possible to create your own renderer function providing that\n",
      "     it matches the required signature (‘frames’ and ‘fps’ argument).\n",
      "     The return value of your provided function will be the return\n",
      "     value ultimately given by ‘animate()’\n",
      "\n",
      "_\bV_\ba_\bl_\bu_\be:\n",
      "\n",
      "     The provided renderers are factory functions that returns a new\n",
      "     function that take ‘frames’ and ‘fps’ as arguments, the former\n",
      "     being a character vector with file paths to the images holding the\n",
      "     separate frames, in the order they should appear, and the latter\n",
      "     being the framerate to use for the animation in frames-per-second.\n",
      "\n",
      "     The return type of the different returned renderers are:\n",
      "\n",
      "        • *‘gifski_renderer’*: Returns a gif_image object\n",
      "\n",
      "        • *‘magick_renderer’*: Returns a ‘magick-image’ object\n",
      "\n",
      "        • *‘av_renderer’*: Returns a video_file object\n",
      "\n",
      "        • *‘ffmpeg_renderer’*: Returns a video_file object\n",
      "\n",
      "        • *‘file_renderer’*: Returns a vector of file paths\n",
      "\n",
      "_\bE_\bx_\ba_\bm_\bp_\bl_\be_\bs:\n",
      "\n",
      "     anim <- ggplot(mtcars, aes(mpg, disp)) +\n",
      "       transition_states(gear, transition_length = 2, state_length = 1) +\n",
      "       enter_fade() +\n",
      "       exit_fade()\n",
      "     \n",
      "     ## Not run:\n",
      "     \n",
      "     # Renderers are specified in the `animate()` function\n",
      "     animate(anim, renderer = sprite_renderer())\n",
      "     ## End(Not run)\n",
      "     \n"
     ]
    }
   ],
   "source": [
    "%%R\n",
    "?renderers"
   ]
  },
  {
   "cell_type": "code",
   "execution_count": null,
   "metadata": {},
   "outputs": [],
   "source": []
  }
 ],
 "metadata": {
  "kernelspec": {
   "display_name": "Python 3",
   "language": "python",
   "name": "python3"
  },
  "language_info": {
   "codemirror_mode": {
    "name": "ipython",
    "version": 3
   },
   "file_extension": ".py",
   "mimetype": "text/x-python",
   "name": "python",
   "nbconvert_exporter": "python",
   "pygments_lexer": "ipython3",
   "version": "3.7.1"
  }
 },
 "nbformat": 4,
 "nbformat_minor": 2
}
